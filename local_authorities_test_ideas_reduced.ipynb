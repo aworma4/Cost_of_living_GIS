{
 "cells": [
  {
   "cell_type": "markdown",
   "id": "98b8d8c7-19e1-4e50-bae7-c2e4b6762ee8",
   "metadata": {},
   "source": [
    "# Cost of living\n",
    "\n",
    "https://www.ons.gov.uk/economy/inflationandpriceindices/articles/costofliving/latestinsights   - not a useful link\n",
    "\n",
    "https://www.ons.gov.uk/peoplepopulationandcommunity/wellbeing/articles/subnationalindicatorsexplorer/2022-01-06\n",
    "\n",
    "https://geoportal.statistics.gov.uk/\n",
    "\n",
    "https://jamboard.google.com/d/1UDiSgSrkWjnBMGgkC8QyGtf1ECg9ebtT3rpHshkt9yI/viewer?f=0\n",
    "\n",
    "https://shallowsky.com/blog/mapping/folium-with-shapefiles.html#:~:text=But%20Folium%20can%27t%20handle%20shapefiles%2C%20only%20GeoJSON.%20You,do%20it%20programmatically%20with%20the%20GDAL%20Python%20bindings%3A\n",
    "\n",
    "https://www.ons.gov.uk/economy/inflationandpriceindices/datalist?sortBy=release_date&query=regional&filter=datasets&fromDateDay=&fromDateMonth=&fromDateYear=&toDateDay=&toDateMonth=&toDateYear=\n",
    "\n",
    " "
   ]
  },
  {
   "cell_type": "markdown",
   "id": "e8ac973d-0f65-41ed-9dbe-e6e8f87f1ce4",
   "metadata": {},
   "source": [
    "#!pip install geopandas\n",
    "https://geoportal.statistics.gov.uk/datasets/ons::local-authority-districts-may-2023-uk-bfc-2/explore?location=54.303971%2C-0.744937%2C6.87"
   ]
  },
  {
   "cell_type": "code",
   "execution_count": null,
   "id": "24927672-4563-491b-91fe-a516410deee7",
   "metadata": {},
   "outputs": [],
   "source": [
    "import geopandas as gpd\n",
    "import folium\n",
    "import json\n",
    "import geojson\n",
    "import random\n",
    "import branca\n",
    "import pandas as pd\n",
    "\n"
   ]
  },
  {
   "cell_type": "code",
   "execution_count": null,
   "id": "3dca8c28-d6de-43cf-b1cb-47c615e9f56f",
   "metadata": {},
   "outputs": [],
   "source": [
    "#load as geo pandas\n",
    "path_to_geojson =  'data/Local_Authority_Districts_(May_2023)_UK_BFC.geojson'\n",
    "code_col = 'LAD23CD'\n",
    "\n",
    "gj_gpd = gpd.read_file(path_to_geojson)\n",
    "\n",
    "N = len(gj_gpd)\n",
    "gj_gpd.head(3)\n",
    "\n"
   ]
  },
  {
   "cell_type": "code",
   "execution_count": null,
   "id": "bc48cfcb-8ccf-4477-979f-9eba4f65daec",
   "metadata": {},
   "outputs": [],
   "source": [
    "#load as geojson\n",
    "with open(path_to_geojson) as f:\n",
    "    gj = geojson.load(f)\n"
   ]
  },
  {
   "cell_type": "markdown",
   "id": "22f383b1-53bf-4021-9135-76866443c8ee",
   "metadata": {},
   "source": [
    "# load weight in data "
   ]
  },
  {
   "cell_type": "code",
   "execution_count": null,
   "id": "c091e080-9da1-419b-bf8e-f2646726650f",
   "metadata": {},
   "outputs": [],
   "source": [
    "#list of codes\n",
    "list_codes = list(gj_gpd[code_col].drop_duplicates())\n",
    "list_codes[0:10]"
   ]
  },
  {
   "cell_type": "code",
   "execution_count": null,
   "id": "ae7528a4-1cca-4325-bc96-ffac788afd88",
   "metadata": {},
   "outputs": [],
   "source": [
    "df_weights = pd.read_csv('data/machine_readable.csv')\n",
    "\n",
    "#rename first column\n",
    "cols = list(df_weights.columns)\n",
    "cols[0] = 'code'\n",
    "df_weights.columns= cols\n",
    "\n",
    "df_weights.head(2)"
   ]
  },
  {
   "cell_type": "code",
   "execution_count": null,
   "id": "cff9a1f8-8aac-4495-8abc-d9992b900180",
   "metadata": {},
   "outputs": [],
   "source": [
    "df_weights_reduced = df_weights[df_weights['code'].isin(list_codes)]\n",
    "df_weights_reduced.head(3)"
   ]
  },
  {
   "cell_type": "code",
   "execution_count": null,
   "id": "17e8dc23-af92-4b28-8238-155d4f664137",
   "metadata": {},
   "outputs": [],
   "source": [
    "path = 'data/df_weight_reduced_local_authorities.csv'\n",
    "df_weights_reduced.to_csv(path)"
   ]
  },
  {
   "cell_type": "code",
   "execution_count": null,
   "id": "044abe41-24cd-489d-89c3-a1f93680cf7a",
   "metadata": {},
   "outputs": [],
   "source": [
    "#list values for uses as a weight\n",
    "list_weights = list(df_weights_reduced['Unnamed: 3'].drop_duplicates())\n",
    "\n",
    "list_weights\n"
   ]
  },
  {
   "cell_type": "code",
   "execution_count": null,
   "id": "0b85ae50-eb89-4964-adfd-074973073e4f",
   "metadata": {},
   "outputs": [],
   "source": [
    "#choose weight\n",
    "weight_choice = list_weights[1]\n",
    "print(weight_choice)\n",
    "\n",
    "df_weights_reduced_single = df_weights_reduced[df_weights_reduced['Unnamed: 3'] ==weight_choice]\n",
    "\n",
    "df_weights_reduced_single.head(2)"
   ]
  },
  {
   "cell_type": "code",
   "execution_count": null,
   "id": "37fa16b8-a98c-478d-b0f1-4fe1064be9ff",
   "metadata": {},
   "outputs": [],
   "source": [
    "combined1 = gj_gpd.merge(df_weights_reduced_single,left_on=code_col, right_on = 'code', how = 'inner')\n",
    "\n",
    "combined1['Unnamed: 8'] = combined1['Unnamed: 8'].fillna(0)"
   ]
  },
  {
   "cell_type": "code",
   "execution_count": null,
   "id": "ccb3e4aa-e9da-4433-a086-51eb48245463",
   "metadata": {},
   "outputs": [],
   "source": [
    "combined1.head(2)"
   ]
  },
  {
   "cell_type": "code",
   "execution_count": null,
   "id": "69e8424c-12f5-4450-a621-6b71770c7ab7",
   "metadata": {},
   "outputs": [],
   "source": [
    "\n",
    "vmin = min(combined1['Unnamed: 8'].apply(float))\n",
    "vmax =max(combined1['Unnamed: 8'].apply(float))\n",
    "name = combined1.loc[0]['Unnamed: 3']\n",
    "print(vmin,vmax)\n",
    "\n",
    "colormap = branca.colormap.LinearColormap(\n",
    "    vmin=vmin,\n",
    "    vmax=vmax,\n",
    "    colors=[\"red\", \"orange\", \"lightblue\", \"green\", \"darkgreen\"],\n",
    "    caption=f\"{name}\",\n",
    ")\n",
    "\n",
    "\n",
    "def random_html_color():\n",
    "    r = random.randint(0,256)\n",
    "    g = random.randint(0,256)\n",
    "    b = random.randint(0,256)\n",
    "    return '#%02x%02x%02x' % (r, g, b)\n",
    "  \n",
    "\n",
    "def style_fcn(x):\n",
    "    return { 'fillColor': random_html_color(),\n",
    "           'fillOpacity': 0.50,\n",
    "           'weight' : x['properties']['weight']}\n",
    "\n",
    "\n",
    "highlight_function = lambda x: {'fillColor': '#000000', \n",
    "                                'color':'#000000', \n",
    "                                'fillOpacity': 0.50, \n",
    "                                'weight': 0.01}"
   ]
  },
  {
   "cell_type": "code",
   "execution_count": null,
   "id": "67e30a7a-c796-40c3-ab0d-390f3f3912c3",
   "metadata": {
    "scrolled": true
   },
   "outputs": [],
   "source": [
    "m = folium.Map(location=[51.5072, 0.1276],zoom_start=7,zoom_control=True)\n",
    "keys = list(gj[1]['properties'].keys())[0:3]\n",
    "keys.append('weight')\n",
    "\n",
    "N = len(gj_gpd)\n",
    "\n",
    "for row in range(N):\n",
    "    \n",
    "\n",
    "    obj = gj[row]\n",
    "    code = obj['properties'][code_col]\n",
    "    data = combined1[combined1['code'] == code]\n",
    "\n",
    "    if len(data)==0:\n",
    "        f_weight = 0.0\n",
    "    else:\n",
    "        \n",
    "        weight = data['Unnamed: 8']\n",
    "        f_weight = float(list(weight)[0])\n",
    "\n",
    "\n",
    "    gj[row]['properties']['weight'] = f_weight\n",
    "    #random.randint(0,10)\n",
    "    \n",
    "    #folium.GeoJson(gj[row], style_function=style_fcn).add_to(m)\n",
    "    feature = folium.features.GeoJson(\n",
    "            obj,\n",
    "            style_function=lambda x: {\n",
    "            \"fillColor\": colormap(x[\"properties\"][\"weight\"]),\n",
    "                                 'fillOpacity': 0.9 \n",
    "        },\n",
    "           highlight_function=highlight_function,\n",
    "            control=False,\n",
    "            tooltip=folium.features.GeoJsonTooltip(\n",
    "                fields=keys))\n",
    "    \n",
    "    m.add_child(feature)\n",
    "    m.keep_in_front(feature)\n",
    "\n",
    "colormap.add_to(m)\n",
    "m"
   ]
  },
  {
   "cell_type": "markdown",
   "id": "07baaa15-00a8-4738-afc6-6399271c6ac6",
   "metadata": {},
   "source": [
    "# Save image\n"
   ]
  },
  {
   "cell_type": "code",
   "execution_count": null,
   "id": "f26a17d1-1ade-4453-b5c3-7bb7aee2b95a",
   "metadata": {},
   "outputs": [],
   "source": [
    "m.save('local_authorities_test_folium.html')"
   ]
  },
  {
   "cell_type": "code",
   "execution_count": null,
   "id": "4819241a-7400-4c82-a356-077efe2df899",
   "metadata": {},
   "outputs": [],
   "source": []
  },
  {
   "cell_type": "code",
   "execution_count": null,
   "id": "9fa7014f-cd47-4743-ad0f-856cffaf6913",
   "metadata": {},
   "outputs": [],
   "source": []
  },
  {
   "cell_type": "code",
   "execution_count": null,
   "id": "fac0cfbd-24af-4e4e-9d6c-2a7684ccbdd8",
   "metadata": {},
   "outputs": [],
   "source": []
  },
  {
   "cell_type": "code",
   "execution_count": null,
   "id": "37033212-c211-49d1-860f-4cd960c04962",
   "metadata": {},
   "outputs": [],
   "source": []
  },
  {
   "cell_type": "code",
   "execution_count": null,
   "id": "21d0f01a-0bcb-4aa5-aa44-679917b22885",
   "metadata": {},
   "outputs": [],
   "source": []
  },
  {
   "cell_type": "code",
   "execution_count": null,
   "id": "ad39b7f3-bcfd-4950-b7db-8b00c6c7e925",
   "metadata": {},
   "outputs": [],
   "source": []
  }
 ],
 "metadata": {
  "kernelspec": {
   "display_name": "Python 3 (ipykernel)",
   "language": "python",
   "name": "python3"
  },
  "language_info": {
   "codemirror_mode": {
    "name": "ipython",
    "version": 3
   },
   "file_extension": ".py",
   "mimetype": "text/x-python",
   "name": "python",
   "nbconvert_exporter": "python",
   "pygments_lexer": "ipython3",
   "version": "3.10.11"
  }
 },
 "nbformat": 4,
 "nbformat_minor": 5
}
